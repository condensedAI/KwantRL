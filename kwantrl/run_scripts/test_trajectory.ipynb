{
 "cells": [
  {
   "cell_type": "code",
   "execution_count": 1,
   "metadata": {},
   "outputs": [],
   "source": [
    "from kwantrl.simulations.pixel_array import pixelarrayQPC\n",
    "from kwantrl.optimization.trajectory_optimization import trajectory_func_to_optimize\n",
    "from kwantrl.optimization.cma import optimize_cma\n",
    "from kwantrl.lossfunctions.staircasiness import staircasiness\n",
    "from kwantrl.datahandling.datahandling import datahandler\n",
    "import numpy as np\n",
    "from functools import partial\n",
    "from multiprocessing import cpu_count"
   ]
  },
  {
   "cell_type": "code",
   "execution_count": 2,
   "metadata": {},
   "outputs": [
    {
     "data": {
      "text/plain": [
       "[<matplotlib.lines.Line2D at 0x7f96ad0b8bb0>]"
      ]
     },
     "execution_count": 2,
     "metadata": {},
     "output_type": "execute_result"
    },
    {
     "data": {
      "image/png": "[encoded data removed]",
      "text/plain": [
       "<Figure size 432x288 with 1 Axes>"
      ]
     },
     "metadata": {
      "needs_background": "light"
     },
     "output_type": "display_data"
    }
   ],
   "source": [
    "start=-3\n",
    "stop=2\n",
    "steps=200\n",
    "\n",
    "# Parameters for QPC\n",
    "disorder=0.2\n",
    "outer_gates=-3\n",
    "B_field=0\n",
    "energy=1\n",
    "\n",
    "# Initialize loss function\n",
    "stairs=staircasiness(delta=0.05,last_step=20)\n",
    "\n",
    "# Set common voltage sweep\n",
    "common_voltages=np.linspace(start,stop,steps)\n",
    "\n",
    "\n",
    "# Initialize QPC instance and set parameters\n",
    "QPC=pixelarrayQPC(plot=False)\n",
    "\n",
    "QPC.U0=disorder\n",
    "QPC.energy=energy\n",
    "QPC.V1=outer_gates\n",
    "QPC.V11=outer_gates\n",
    "QPC.phi=B_field\n",
    "\n",
    "dat=datahandler()\n",
    "\n",
    "test=QPC.parallel_transmission(common_voltages)\n",
    "import matplotlib.pyplot as plt\n",
    "with plt.style.context('classic'):\n",
    "    plt.plot(test)"
   ]
  },
  {
   "cell_type": "code",
   "execution_count": 3,
   "metadata": {},
   "outputs": [
    {
     "name": "stdout",
     "output_type": "stream",
     "text": [
      "data saved to:\n",
      "/Users/qdev_26/Documents/PhD/kwantrl/kwantrl_data/outcmaes/10/\n",
      "(6_w,12)-aCMA-ES (mu_w=3.7,w_1=40%) in dimension 16 (seed=567588, Mon Jan 17 17:33:30 2022)\n",
      "Iterat #Fevals   function value  axis ratio  sigma  min&max std  t[m:s]\n",
      "    1     12 3.493344944013896e+01 1.0e+00 4.63e-01  5e-01  5e-01 3:48.0\n",
      "termination on timeout=100 (Mon Jan 17 17:37:38 2022)\n",
      "final/bestever f-value = 3.483473e+01 3.483473e+01\n",
      "incumbent solution: [ 0.27320886 -0.08667985 -0.07220431 -0.0755477  -0.21428103  0.08220517\n",
      "  0.12356745  0.1598328  ...]\n",
      "std deviations: [0.46605569 0.45974738 0.46105218 0.4608477  0.45947909 0.45259812\n",
      " 0.45816683 0.46535236 ...]\n"
     ]
    }
   ],
   "source": [
    "order=2\n",
    "start_point=np.zeros(shape=(order,8)).ravel()\n",
    "kwargs={'common_mode':common_voltages,'QPC_instance':QPC,'order':order,'loss_function':stairs.window_loss,'bounds':(-3,2),'pfactor':0.001,'num_cpus':cpu_count()}\n",
    "actual_func_to_minimize=partial(trajectory_func_to_optimize,**kwargs)\n",
    "result,es,run_id=optimize_cma(actual_func_to_minimize,dat,start_point,maxfevals=99999,sigma=0.5,stop_time=3600)"
   ]
  },
  {
   "cell_type": "code",
   "execution_count": 4,
   "metadata": {},
   "outputs": [
    {
     "ename": "NameError",
     "evalue": "name 'run_id' is not defined",
     "output_type": "error",
     "traceback": [
      "\u001b[0;31m---------------------------------------------------------------------------\u001b[0m",
      "\u001b[0;31mNameError\u001b[0m                                 Traceback (most recent call last)",
      "\u001b[0;32m/var/folders/jf/5dj9dcfd1t7bw761tpfh_k3m0000gp/T/ipykernel_57388/4025882651.py\u001b[0m in \u001b[0;36m<module>\u001b[0;34m\u001b[0m\n\u001b[1;32m      1\u001b[0m \u001b[0;32mfrom\u001b[0m \u001b[0mkwantrl\u001b[0m\u001b[0;34m.\u001b[0m\u001b[0mplotting\u001b[0m\u001b[0;34m.\u001b[0m\u001b[0mplotting\u001b[0m \u001b[0;32mimport\u001b[0m \u001b[0mplotter_class\u001b[0m\u001b[0;34m\u001b[0m\u001b[0;34m\u001b[0m\u001b[0m\n\u001b[1;32m      2\u001b[0m \u001b[0;32mimport\u001b[0m \u001b[0mnumpy\u001b[0m \u001b[0;32mas\u001b[0m \u001b[0mnp\u001b[0m\u001b[0;34m\u001b[0m\u001b[0;34m\u001b[0m\u001b[0m\n\u001b[0;32m----> 3\u001b[0;31m \u001b[0mplotter\u001b[0m\u001b[0;34m=\u001b[0m\u001b[0mplotter_class\u001b[0m\u001b[0;34m(\u001b[0m\u001b[0mrun_id\u001b[0m\u001b[0;34m)\u001b[0m\u001b[0;34m\u001b[0m\u001b[0;34m\u001b[0m\u001b[0m\n\u001b[0m\u001b[1;32m      4\u001b[0m \u001b[0;31m# print(np.array(plotter.data['voltages'][0]).shape)\u001b[0m\u001b[0;34m\u001b[0m\u001b[0;34m\u001b[0m\u001b[0m\n\u001b[1;32m      5\u001b[0m \u001b[0mplotter\u001b[0m\u001b[0;34m.\u001b[0m\u001b[0mplot_loss\u001b[0m\u001b[0;34m(\u001b[0m\u001b[0;34m)\u001b[0m\u001b[0;34m\u001b[0m\u001b[0;34m\u001b[0m\u001b[0m\n",
      "\u001b[0;31mNameError\u001b[0m: name 'run_id' is not defined"
     ]
    }
   ],
   "source": [
    "from kwantrl.plotting.plotting import plotter_class\n",
    "import numpy as np\n",
    "plotter=plotter_class(run_id)\n",
    "# print(np.array(plotter.data['voltages'][0]).shape)\n",
    "plotter.plot_loss()\n",
    "plotter.plot_result()\n",
    "plotter.plot_wave_func(-2)\n",
    "plotter.plot_wave_func(-1.3)\n",
    "plotter.plot_wave_func(-0.5)\n",
    "plotter.plot_wave_func(0.5)"
   ]
  }
 ],
 "metadata": {
  "interpreter": {
   "hash": "eda29806e99a91068b9b8352d7d3cc7b63a4d209dd6c21dd4a7f7b3e228a98b3"
  },
  "kernelspec": {
   "display_name": "Python 3.7.5 64-bit ('qcodes': conda)",
   "language": "python",
   "name": "python3"
  },
  "language_info": {
   "codemirror_mode": {
    "name": "ipython",
    "version": 3
   },
   "file_extension": ".py",
   "mimetype": "text/x-python",
   "name": "python",
   "nbconvert_exporter": "python",
   "pygments_lexer": "ipython3",
   "version": "3.9.7"
  },
  "orig_nbformat": 4
 },
 "nbformat": 4,
 "nbformat_minor": 2
}
