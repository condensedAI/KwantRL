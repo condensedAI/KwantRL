{
 "cells": [
  {
   "cell_type": "code",
   "execution_count": 1,
   "metadata": {},
   "outputs": [],
   "source": [
    "from kwantrl.simulations.pixel_array import pixelarrayQPC\n",
    "from kwantrl.optimization.trajectory_optimization import trajectory_func_to_optimize2\n",
    "from kwantrl.optimization.cma import cma_p\n",
    "from kwantrl.lossfunctions.staircasiness import staircasiness\n",
    "from kwantrl.datahandling.datahandling import datahandler\n",
    "import numpy as np\n",
    "from functools import partial\n",
    "from multiprocessing import cpu_count\n",
    "# import cma\n",
    "import os\n",
    "import pickle\n",
    "\n",
    "def save_es(es,folder):\n",
    "    string=es.pickle_dumps()\n",
    "    with open(folder+'saved_es.pkl','wb') as file:\n",
    "        file.write(string)\n",
    "\n",
    "def load_es(folder):\n",
    "    with open(folder+'saved_es.pkl','rb') as file:\n",
    "        string=file.read()\n",
    "        es=pickle.loads(string)\n",
    "    return es"
   ]
  },
  {
   "cell_type": "code",
   "execution_count": 2,
   "metadata": {},
   "outputs": [],
   "source": [
    "start=-3\n",
    "stop=2\n",
    "steps=200\n",
    "\n",
    "# Parameters for QPC\n",
    "disorder=0.15\n",
    "outer_gates=-3\n",
    "B_field=0\n",
    "energy=1\n",
    "\n",
    "# Initialize loss function\n",
    "stairs=staircasiness(delta=0.05,last_step=20)\n",
    "\n",
    "# Set common voltage sweep\n",
    "common_voltages=np.linspace(start,stop,steps)\n",
    "\n",
    "\n",
    "# Initialize QPC instance and set parameters\n",
    "QPC=pixelarrayQPC(plot=False)\n",
    "\n",
    "QPC.U0=disorder\n",
    "QPC.energy=energy\n",
    "QPC.V1=outer_gates\n",
    "QPC.V11=outer_gates\n",
    "QPC.phi=B_field\n",
    "\n",
    "dat=datahandler()"
   ]
  },
  {
   "cell_type": "code",
   "execution_count": 3,
   "metadata": {},
   "outputs": [
    {
     "name": "stdout",
     "output_type": "stream",
     "text": [
      "data saved to:\n",
      "/Users/qdev_26/Documents/PhD/kwantrl/kwantrl_data/outcmaes/24/\n",
      "(4_w,8)-aCMA-ES (mu_w=2.6,w_1=52%) in dimension 9 (seed=302357, Fri Feb 18 15:03:06 2022)\n",
      "Iterat #Fevals   function value  axis ratio  sigma  min&max std  t[m:s]\n",
      "    1      8 9.688052090671173e-01 1.0e+00 4.49e-01  4e-01  5e-01 2:11.8\n",
      "    2     16 1.023251864667050e+00 1.2e+00 4.18e-01  4e-01  4e-01 4:19.7\n",
      "    3     24 1.049301471254110e+00 1.2e+00 3.95e-01  4e-01  4e-01 6:31.3\n",
      "    4     32 9.982285127971764e-01 1.3e+00 3.61e-01  3e-01  4e-01 8:45.5\n",
      "termination on timeout=500\n",
      "final/bestever f-value = 9.982285e-01 9.688052e-01\n",
      "incumbent solution: [ 0.09645344 -0.45197767 -0.38123966  0.2356752  -0.48507376 -0.06392035\n",
      "  0.25085755 -0.42614241 ...]\n",
      "std deviations: [0.32749633 0.34831086 0.34163648 0.33660204 0.36869109 0.35377814\n",
      " 0.3453924  0.34854748 ...]\n"
     ]
    }
   ],
   "source": [
    "order=2\n",
    "start_point=np.zeros(shape=(order,8)).ravel()\n",
    "kwargs={'common_mode':common_voltages,'QPC_instance':QPC,'order':order,'loss_function':stairs.window_loss,'bounds':(-4,3),'pfactor':0.001,'num_cpus':cpu_count()}\n",
    "actual_func_to_minimize=partial(trajectory_func_to_optimize2,**kwargs)\n",
    "test=cma_p(actual_func_to_minimize)\n",
    "# b=test.run()"
   ]
  },
  {
   "cell_type": "code",
   "execution_count": 4,
   "metadata": {},
   "outputs": [
    {
     "data": {
      "text/plain": [
       "(<cma.optimization_tools.BestSolution at 0x7f798c53d7f0>,\n",
       " <cma.evolution_strategy.CMAEvolutionStrategy at 0x7f7989b1b940>,\n",
       " 24)"
      ]
     },
     "execution_count": 4,
     "metadata": {},
     "output_type": "execute_result"
    }
   ],
   "source": [
    "test"
   ]
  }
 ],
 "metadata": {
  "interpreter": {
   "hash": "790b17688cfb430a8bb7575c644572185512bc5cb343094665ebe0ba22da9cfe"
  },
  "kernelspec": {
   "display_name": "Python 3.9.7 64-bit ('kwantrl': conda)",
   "language": "python",
   "name": "python3"
  },
  "language_info": {
   "codemirror_mode": {
    "name": "ipython",
    "version": 3
   },
   "file_extension": ".py",
   "mimetype": "text/x-python",
   "name": "python",
   "nbconvert_exporter": "python",
   "pygments_lexer": "ipython3",
   "version": "3.9.7"
  },
  "orig_nbformat": 4
 },
 "nbformat": 4,
 "nbformat_minor": 2
}
