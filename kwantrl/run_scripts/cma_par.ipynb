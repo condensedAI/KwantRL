{
 "cells": [
  {
   "cell_type": "code",
   "execution_count": 1,
   "metadata": {},
   "outputs": [],
   "source": [
    "from kwantrl.simulations.pixel_array import pixelarrayQPC\n",
    "from kwantrl.optimization.trajectory_optimization import trajectory_func_to_optimize2\n",
    "from kwantrl.optimization.cma import cma_p\n",
    "from kwantrl.lossfunctions.staircasiness import staircasiness\n",
    "from kwantrl.datahandling.datahandling import datahandler\n",
    "import numpy as np\n",
    "from functools import partial\n",
    "from multiprocessing import cpu_count\n",
    "# import cma\n",
    "import os\n",
    "import pickle\n"
   ]
  },
  {
   "cell_type": "code",
   "execution_count": 2,
   "metadata": {},
   "outputs": [],
   "source": [
    "start=-3\n",
    "stop=2\n",
    "steps=200\n",
    "\n",
    "# Parameters for QPC\n",
    "disorder=0.15\n",
    "outer_gates=-3\n",
    "B_field=0\n",
    "energy=1\n",
    "\n",
    "# Initialize loss function\n",
    "stairs=staircasiness(delta=0.05,last_step=20)\n",
    "\n",
    "# Set common voltage sweep\n",
    "common_voltages=np.linspace(start,stop,steps)\n",
    "\n",
    "\n",
    "# Initialize QPC instance and set parameters\n",
    "QPC=pixelarrayQPC(plot=False)\n",
    "\n",
    "QPC.U0=disorder\n",
    "QPC.energy=energy\n",
    "QPC.V1=outer_gates\n",
    "QPC.V11=outer_gates\n",
    "QPC.phi=B_field\n",
    "\n",
    "dat=datahandler()"
   ]
  },
  {
   "cell_type": "code",
   "execution_count": 3,
   "metadata": {},
   "outputs": [
    {
     "name": "stdout",
     "output_type": "stream",
     "text": [
      "data saved to:\n",
      "/Users/qdev_26/Documents/PhD/kwantrl/kwantrl_data/outcmaes/35/\n",
      "(4_w,8)-aCMA-ES (mu_w=2.6,w_1=52%) in dimension 16 (seed=359226, Mon Mar 14 11:16:52 2022)\n",
      "Iterat Nfevals  function value    axis ratio maxstd  minstd\n",
      "Iterat #Fevals   function value  axis ratio  sigma  min&max std  t[m:s]\n",
      "    1      8 9.573638834310128e-01 1.0e+00 4.67e-01  5e-01  5e-01 2:07.1\n",
      "termination on timeout=100\n",
      "final/bestever f-value = 9.573639e-01 9.573639e-01\n",
      "incumbent solution: [-0.21330188 -0.52585691  0.29767691 -0.03416514  0.1832872   0.32979766\n",
      " -0.16628885  0.10676848 ...]\n",
      "std deviations: [0.46762102 0.46901927 0.46570136 0.464344   0.46579232 0.4618718\n",
      " 0.46345303 0.46742929 ...]\n"
     ]
    }
   ],
   "source": [
    "order=2\n",
    "start_point=np.zeros(shape=(order,8)).ravel()\n",
    "kwargs={'common_mode':common_voltages,'QPC_instance':QPC,'order':order,'loss_function':stairs.window_loss,'bounds':(-4,3),'pfactor':0.001}\n",
    "actual_func_to_minimize=partial(trajectory_func_to_optimize2,**kwargs)\n",
    "test=cma_p(trajectory_func_to_optimize2,function_args=kwargs,datahandler=datahandler(data_path='/Users/qdev_26/Documents/PhD/kwantrl/kwantrl_data'),starting_point=start_point,QPC=QPC)"
   ]
  },
  {
   "cell_type": "code",
   "execution_count": null,
   "metadata": {},
   "outputs": [],
   "source": []
  }
 ],
 "metadata": {
  "interpreter": {
   "hash": "790b17688cfb430a8bb7575c644572185512bc5cb343094665ebe0ba22da9cfe"
  },
  "kernelspec": {
   "display_name": "Python 3.9.7 64-bit ('kwantrl': conda)",
   "language": "python",
   "name": "python3"
  },
  "language_info": {
   "codemirror_mode": {
    "name": "ipython",
    "version": 3
   },
   "file_extension": ".py",
   "mimetype": "text/x-python",
   "name": "python",
   "nbconvert_exporter": "python",
   "pygments_lexer": "ipython3",
   "version": "3.9.7"
  },
  "orig_nbformat": 4
 },
 "nbformat": 4,
 "nbformat_minor": 2
}
