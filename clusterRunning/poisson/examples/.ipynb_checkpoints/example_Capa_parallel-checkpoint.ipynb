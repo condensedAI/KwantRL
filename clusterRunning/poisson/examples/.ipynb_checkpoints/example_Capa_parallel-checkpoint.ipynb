{
 "cells": [
  {
   "cell_type": "markdown",
   "metadata": {},
   "source": [
    "# 3D example of a parallel plate capacitance\n",
    "\n",
    "TODO: Add tutorial with mixed points\n",
    "\n",
    "TODO: Add tutorial where update is used"
   ]
  },
  {
   "cell_type": "markdown",
   "metadata": {},
   "source": [
    "# Geometry: \n",
    "\n",
    "Start by defining the geometry of the system.\n",
    "\n",
    "This can be done in two ways: \n",
    "    \n",
    "- By defining a function taking as parameter a numpy array representing a set of coordinates and returning a boolean. True if the coordinate is within the defined region. \n",
    "        \n",
    "- By creating an instance of a sublcass of poisson.Shape, c.f. poisson.continuous.shape. \n",
    "\n",
    "The advantage of the latter is that logical operations are accepted, e.g."
   ]
  },
  {
   "cell_type": "code",
   "execution_count": 1,
   "metadata": {},
   "outputs": [
    {
     "name": "stdout",
     "output_type": "stream",
     "text": [
      "VoronoiMesh version 0.1\n",
      "DiscretePoisson version 0.3\n",
      "Shape version: 0.1\n",
      "SystEquations version: 0.3\n",
      "Solver version 0.1\n"
     ]
    }
   ],
   "source": [
    "from poisson.continuous import shapes\n",
    "\n",
    "A = shapes.Rectangle(length=(5, 2, 5))\n",
    "B = shapes.Rectangle(length=(5, 5, 5), corner=(0, 2.001, 0))\n",
    "C = shapes.Rectangle(length=(5, 2, 5), corner=(0, 7.001, 0))\n"
   ]
  },
  {
   "cell_type": "markdown",
   "metadata": {},
   "source": [
    "The logical operations that are allowed between Shape instances are:\n",
    "\n",
    "- +: addition\n",
    "- \\- : subtraction\n",
    "- & : and (same as addition)\n",
    "- | : or \n",
    "- ^ : xor\n",
    "\n",
    "One can also apply a not operation ~ to a individual Shape instance\n",
    "\n",
    "A few examples :"
   ]
  },
  {
   "cell_type": "code",
   "execution_count": 2,
   "metadata": {},
   "outputs": [
    {
     "name": "stdout",
     "output_type": "stream",
     "text": [
      "[[ 0.          0.          0.        ]\n",
      " [ 0.1010101   0.1010101   0.1010101 ]\n",
      " [ 0.2020202   0.2020202   0.2020202 ]\n",
      " [ 0.3030303   0.3030303   0.3030303 ]\n",
      " [ 0.4040404   0.4040404   0.4040404 ]\n",
      " [ 0.50505051  0.50505051  0.50505051]\n",
      " [ 0.60606061  0.60606061  0.60606061]\n",
      " [ 0.70707071  0.70707071  0.70707071]\n",
      " [ 0.80808081  0.80808081  0.80808081]\n",
      " [ 0.90909091  0.90909091  0.90909091]\n",
      " [ 1.01010101  1.01010101  1.01010101]\n",
      " [ 1.11111111  1.11111111  1.11111111]\n",
      " [ 1.21212121  1.21212121  1.21212121]\n",
      " [ 1.31313131  1.31313131  1.31313131]\n",
      " [ 1.41414141  1.41414141  1.41414141]\n",
      " [ 1.51515152  1.51515152  1.51515152]\n",
      " [ 1.61616162  1.61616162  1.61616162]\n",
      " [ 1.71717172  1.71717172  1.71717172]\n",
      " [ 1.81818182  1.81818182  1.81818182]\n",
      " [ 1.91919192  1.91919192  1.91919192]\n",
      " [ 2.02020202  2.02020202  2.02020202]\n",
      " [ 2.12121212  2.12121212  2.12121212]\n",
      " [ 2.22222222  2.22222222  2.22222222]\n",
      " [ 2.32323232  2.32323232  2.32323232]\n",
      " [ 2.42424242  2.42424242  2.42424242]\n",
      " [ 2.52525253  2.52525253  2.52525253]\n",
      " [ 2.62626263  2.62626263  2.62626263]\n",
      " [ 2.72727273  2.72727273  2.72727273]\n",
      " [ 2.82828283  2.82828283  2.82828283]\n",
      " [ 2.92929293  2.92929293  2.92929293]\n",
      " [ 3.03030303  3.03030303  3.03030303]\n",
      " [ 3.13131313  3.13131313  3.13131313]\n",
      " [ 3.23232323  3.23232323  3.23232323]\n",
      " [ 3.33333333  3.33333333  3.33333333]\n",
      " [ 3.43434343  3.43434343  3.43434343]\n",
      " [ 3.53535354  3.53535354  3.53535354]\n",
      " [ 3.63636364  3.63636364  3.63636364]\n",
      " [ 3.73737374  3.73737374  3.73737374]\n",
      " [ 3.83838384  3.83838384  3.83838384]\n",
      " [ 3.93939394  3.93939394  3.93939394]\n",
      " [ 4.04040404  4.04040404  4.04040404]\n",
      " [ 4.14141414  4.14141414  4.14141414]\n",
      " [ 4.24242424  4.24242424  4.24242424]\n",
      " [ 4.34343434  4.34343434  4.34343434]\n",
      " [ 4.44444444  4.44444444  4.44444444]\n",
      " [ 4.54545455  4.54545455  4.54545455]\n",
      " [ 4.64646465  4.64646465  4.64646465]\n",
      " [ 4.74747475  4.74747475  4.74747475]\n",
      " [ 4.84848485  4.84848485  4.84848485]\n",
      " [ 4.94949495  4.94949495  4.94949495]\n",
      " [ 5.05050505  5.05050505  5.05050505]\n",
      " [ 5.15151515  5.15151515  5.15151515]\n",
      " [ 5.25252525  5.25252525  5.25252525]\n",
      " [ 5.35353535  5.35353535  5.35353535]\n",
      " [ 5.45454545  5.45454545  5.45454545]\n",
      " [ 5.55555556  5.55555556  5.55555556]\n",
      " [ 5.65656566  5.65656566  5.65656566]\n",
      " [ 5.75757576  5.75757576  5.75757576]\n",
      " [ 5.85858586  5.85858586  5.85858586]\n",
      " [ 5.95959596  5.95959596  5.95959596]\n",
      " [ 6.06060606  6.06060606  6.06060606]\n",
      " [ 6.16161616  6.16161616  6.16161616]\n",
      " [ 6.26262626  6.26262626  6.26262626]\n",
      " [ 6.36363636  6.36363636  6.36363636]\n",
      " [ 6.46464646  6.46464646  6.46464646]\n",
      " [ 6.56565657  6.56565657  6.56565657]\n",
      " [ 6.66666667  6.66666667  6.66666667]\n",
      " [ 6.76767677  6.76767677  6.76767677]\n",
      " [ 6.86868687  6.86868687  6.86868687]\n",
      " [ 6.96969697  6.96969697  6.96969697]\n",
      " [ 7.07070707  7.07070707  7.07070707]\n",
      " [ 7.17171717  7.17171717  7.17171717]\n",
      " [ 7.27272727  7.27272727  7.27272727]\n",
      " [ 7.37373737  7.37373737  7.37373737]\n",
      " [ 7.47474747  7.47474747  7.47474747]\n",
      " [ 7.57575758  7.57575758  7.57575758]\n",
      " [ 7.67676768  7.67676768  7.67676768]\n",
      " [ 7.77777778  7.77777778  7.77777778]\n",
      " [ 7.87878788  7.87878788  7.87878788]\n",
      " [ 7.97979798  7.97979798  7.97979798]\n",
      " [ 8.08080808  8.08080808  8.08080808]\n",
      " [ 8.18181818  8.18181818  8.18181818]\n",
      " [ 8.28282828  8.28282828  8.28282828]\n",
      " [ 8.38383838  8.38383838  8.38383838]\n",
      " [ 8.48484848  8.48484848  8.48484848]\n",
      " [ 8.58585859  8.58585859  8.58585859]\n",
      " [ 8.68686869  8.68686869  8.68686869]\n",
      " [ 8.78787879  8.78787879  8.78787879]\n",
      " [ 8.88888889  8.88888889  8.88888889]\n",
      " [ 8.98989899  8.98989899  8.98989899]\n",
      " [ 9.09090909  9.09090909  9.09090909]\n",
      " [ 9.19191919  9.19191919  9.19191919]\n",
      " [ 9.29292929  9.29292929  9.29292929]\n",
      " [ 9.39393939  9.39393939  9.39393939]\n",
      " [ 9.49494949  9.49494949  9.49494949]\n",
      " [ 9.5959596   9.5959596   9.5959596 ]\n",
      " [ 9.6969697   9.6969697   9.6969697 ]\n",
      " [ 9.7979798   9.7979798   9.7979798 ]\n",
      " [ 9.8989899   9.8989899   9.8989899 ]\n",
      " [10.         10.         10.        ]]\n",
      "[ True  True  True  True  True  True  True  True  True  True  True  True\n",
      "  True  True  True  True  True  True  True  True False False False False\n",
      " False False False False False False False False False False False False\n",
      " False False False False False False False False False False False False\n",
      " False False False False False False False False False False False False\n",
      " False False False False False False False False False False False False\n",
      " False False False False False False False False False False False False\n",
      " False False False False False False False False False False False False\n",
      " False False False False]\n",
      "[False False False False False False False False False False False False\n",
      " False False False False False False False False  True  True  True  True\n",
      "  True  True  True  True  True  True  True  True  True  True  True  True\n",
      "  True  True  True  True  True  True  True  True  True  True  True  True\n",
      "  True  True False False False False False False False False False False\n",
      " False False False False False False False False False False False False\n",
      " False False False False False False False False False False False False\n",
      " False False False False False False False False False False False False\n",
      " False False False False]\n",
      "[ True  True  True  True  True  True  True  True  True  True  True  True\n",
      "  True  True  True  True  True  True  True  True  True  True  True  True\n",
      "  True  True  True  True  True  True  True  True  True  True  True  True\n",
      "  True  True  True  True  True  True  True  True  True  True  True  True\n",
      "  True  True False False False False False False False False False False\n",
      " False False False False False False False False False False False False\n",
      " False False False False False False False False False False False False\n",
      " False False False False False False False False False False False False\n",
      " False False False False]\n",
      "[False False False False False False False False False False False False\n",
      " False False False False False False False False False False False False\n",
      " False False False False False False False False False False False False\n",
      " False False False False False False False False False False False False\n",
      " False False False False False False False False False False False False\n",
      " False False False False False False False False False False False False\n",
      " False False False False False False False False False False False False\n",
      " False False False False False False False False False False False False\n",
      " False False False False]\n",
      "[ True  True  True  True  True  True  True  True  True  True  True  True\n",
      "  True  True  True  True  True  True  True  True False False False False\n",
      " False False False False False False False False False False False False\n",
      " False False False False False False False False False False False False\n",
      " False False False False False False False False False False False False\n",
      " False False False False False False False False False False False False\n",
      " False False False False False False False False False False False False\n",
      " False False False False False False False False False False False False\n",
      " False False False False]\n",
      "[ True  True  True  True  True  True  True  True  True  True  True  True\n",
      "  True  True  True  True  True  True  True  True  True  True  True  True\n",
      "  True  True  True  True  True  True  True  True  True  True  True  True\n",
      "  True  True  True  True  True  True  True  True  True  True  True  True\n",
      "  True  True False False False False False False False False False False\n",
      " False False False False False False False False False False False False\n",
      " False False False False False False False False False False False False\n",
      " False False False False False False False False False False False False\n",
      " False False False False]\n",
      "[ True  True  True  True  True  True  True  True  True  True  True  True\n",
      "  True  True  True  True  True  True  True  True  True  True  True  True\n",
      "  True  True  True  True  True  True  True  True  True  True  True  True\n",
      "  True  True  True  True  True  True  True  True  True  True  True  True\n",
      "  True  True False False False False False False False False False False\n",
      " False False False False False False False False False False False False\n",
      " False False False False False False False False False False False False\n",
      " False False False False False False False False False False False False\n",
      " False False False False]\n"
     ]
    }
   ],
   "source": [
    "import numpy as np\n",
    "\n",
    "coord = np.vstack((np.linspace(0, 10, 100), np.linspace(0, 10, 100), np.linspace(0, 10, 100))).T\n",
    "\n",
    "print(coord)\n",
    "print(A(coord))\n",
    "print(B(coord))\n",
    "print((A + B)(coord))\n",
    "print((A & B)(coord))\n",
    "print((A - B)(coord))\n",
    "print((A ^ B)(coord))\n",
    "print((A | B)(coord))\n"
   ]
  },
  {
   "cell_type": "markdown",
   "metadata": {},
   "source": [
    "From this one can now define a continuous geometry of your system. \n",
    "This is done by initializing a ContinuousGeometry instance, c.f poisson.continuous.geometry. \n",
    "\n",
    "In the latter one has to define, for a parallel plate capacitance :\n",
    "\n",
    "- The total space occupied by the system -> In this case space = A + B + C\n",
    "\n",
    "- The regions where the voltage will be fixed -> voltage = [A, C] or voltage = {'elc1':A, 'elec2':} \n",
    "    \n",
    "    obs: the dictionary allows for the names of the voltages sub-regions to be chosen. \n",
    "        \n",
    "\n",
    "- The relative permittivity in each region -> dielectric = [(A + C, 1), (B, 12)]. The first element  in the tuple is either a function as explained previosuly or a Shape subclass instance. The second element is the relative permittivity.\n",
    "        \n",
    "There is no need to defined the charge regions since any zone in space but not in voltage is by default a region where the charge is fixed."
   ]
  },
  {
   "cell_type": "code",
   "execution_count": 3,
   "metadata": {},
   "outputs": [],
   "source": [
    "import poisson\n",
    "import matplotlib.pyplot as plt\n",
    "\n",
    "con_geo = poisson.ContinuousGeometry(space = A + B + C, \n",
    "                                     voltage={'elect1':A, 'elect2':C},\n",
    "                                     dielectric=[(A+C, 1), (B, 12)])"
   ]
  },
  {
   "cell_type": "markdown",
   "metadata": {},
   "source": [
    "One must also define a list of points to where the ContinuousGeometry instance will be evaluated on. Those points also\n",
    "correspond to the center of the volume element in the finite volume mesh that will be created later on. \n",
    "\n",
    "One can simply create a numpy array containing the coordinates of each point or make a GridBuilder instance. \n",
    "In the latter (c.f. poisson.continuous.grid) one can generate a list of coordinates from:\n",
    "    \n",
    "- A function (such as the one defined above) or a Shape instance\n",
    "- A step betwen the points \n",
    "- A bounding box, e.g. [xmin, xmax, ymin, ymax, zmin, zmax]"
   ]
  },
  {
   "cell_type": "code",
   "execution_count": 4,
   "metadata": {},
   "outputs": [],
   "source": [
    "\n",
    "from poisson import plot as p_plt\n",
    "\n",
    "bbox_A = [0, 5, 0, 5, 0, 5]\n",
    "bbox_B = [0, 5, 2, 8, 0, 5]\n",
    "bbox_C = [0, 5, 5, 10, 0, 5]\n",
    "grid = poisson.GridBuilder(meshs = [(bbox_A, 1, A, 1),  # second argument the step and fourth argument is the label\n",
    "                                    (bbox_B, 1, B, 2),\n",
    "                                    (bbox_C, 1, C, 3)])\n",
    "\n",
    "# Acess the points by calling the GridBuilder instance -> grid()"
   ]
  },
  {
   "cell_type": "code",
   "execution_count": 5,
   "metadata": {},
   "outputs": [],
   "source": [
    "# plot the 3D grid -> This uses mayavi, \n",
    "# c.f. http://docs.enthought.com/mayavi/mayavi/tips.html#using-mayavi-in-jupyter-notebooks\n",
    "p_plt.points_3D_mavi(cls_inst=grid, scale_factor = 0.05)\n",
    "plt.show()\n",
    "\n",
    "# One can also use the coordinates in grid to plot the ContinuousGeometry, i.e.\n",
    "con_geo.plot(plot_type='3D', points=grid(), scale_factor = 0.05)\n",
    "plt.show()"
   ]
  },
  {
   "cell_type": "code",
   "execution_count": 6,
   "metadata": {},
   "outputs": [
    {
     "data": {
      "image/png": "[encoded data removed]",
      "text/plain": [
       "<Figure size 720x720 with 2 Axes>"
      ]
     },
     "metadata": {},
     "output_type": "display_data"
    }
   ],
   "source": [
    "# Or plot a 2D cut\n",
    "con_geo_cut = con_geo.plot(plot_type='2D', bbox=[0, 5, 0, 9])\n",
    "con_geo_cut(variable=0)\n",
    "plt.show()\n"
   ]
  },
  {
   "cell_type": "markdown",
   "metadata": {},
   "source": [
    "# Discrete Problem"
   ]
  },
  {
   "cell_type": "markdown",
   "metadata": {},
   "source": [
    "One must now discretize the continuous geometry. In order to do so we can create an instance \n",
    "of poisson.DiscretePoisson, c.f. poisson.discrete.discrete_poisson. When initialized the DiscretePoisson class will build the capacitance matrix associated with the system. \n",
    "\n",
    "In order to do so one only needs to provide the ContinuousGeometry and a GridBuilder instance. \n",
    "One can also remove redundant points by using the selection parameter. \n",
    "In order to remove points within the voltage regions one can define \n",
    "selection as -> selection = {'Neuman-Dirichlet':[['voltage', '*']]}. \n",
    "\n",
    "Here the dictionary key imposes the method that will be used to remove the points. 'voltage' means that we will apply the afformented method to points in the voltage region and '\\*' means that we will do so for all 'voltage' sub-regions. One could replace '\\*' by ['elect1'] to apply the 'Neuman-Dirichlet' method to only the 'elect1' sub-region'. \n"
   ]
  },
  {
   "cell_type": "code",
   "execution_count": 7,
   "metadata": {},
   "outputs": [
    {
     "name": "stdout",
     "output_type": "stream",
     "text": [
      "Finding closed voronoi cells\n",
      "Done selecting closed voronoi cells\n",
      "Calculating points distance\n",
      "Done\n",
      "Calculating ridges hypersurfaces\n",
      "Done\n",
      "Finding  hypervolume for closed voronoi cells\n",
      "Done finding hypervolume for closed voronoi cells\n",
      "{'Neuman-Dirichlet': [['voltage', '*']]}\n",
      "Done Neuman - Dirichlet refinement\n",
      "Done calculating surface\n",
      "Done calculating distance\n",
      "Done calculating capacitance matrix\n"
     ]
    }
   ],
   "source": [
    "discrete_prob = poisson.DiscretePoisson(con_geo, grid=grid, \n",
    "                                        selection = {'Neuman-Dirichlet':[['voltage', '*']]})"
   ]
  },
  {
   "cell_type": "markdown",
   "metadata": {},
   "source": [
    "# Solving the discrete problem"
   ]
  },
  {
   "cell_type": "markdown",
   "metadata": {},
   "source": [
    "In order to solve the discrete problem one can create an instance of poisson.LinearProblem, c.f. poisson.discrete.linear_problem.\n",
    "\n",
    "In order to do this one must give as parameters, for a parallel capacitance problem:\n",
    "\n",
    "- An instance of DiscreteProblem\n",
    "- The voltage values at the electrodes\n",
    "- A boolean parameter indicating if the charge is given as density of charge or as a number of charge contained in a volume element. For more information on how to defined the charge density c.f. Report. \n",
    "\n",
    "The charge values do not need to be given as their default value is 0\n",
    "\n",
    "When initializing LinearPoblem the problem will be, by default, solved. "
   ]
  },
  {
   "cell_type": "code",
   "execution_count": 8,
   "metadata": {},
   "outputs": [
    {
     "name": "stdout",
     "output_type": "stream",
     "text": [
      "New instance created\n",
      "Solver : MUMPS\n"
     ]
    }
   ],
   "source": [
    "linear_prob = poisson.LinearProblem(discrete_poisson=discrete_prob, voltage_val=[(A, 5), (C, -5)], \n",
    "                                   is_charge_density=True) # is_charge_density is by default true\n",
    "\n",
    "# In order to recover the charge and voltage value at each point\n",
    "points_charge = linear_prob.points_charge \n",
    "points_voltage = linear_prob.points_voltage\n",
    "\n",
    "# In oder to recover the volume of each cell\n",
    "points_volume = linear_prob.discrete_poisson.mesh.points_hypervolume\n",
    "\n",
    "# Saving the results in a .vtu format (compatible with ParaView  -> h ttps://www.paraview.org/)\n",
    "linear_prob.save_to_vtk(filename='/home/alacerda/Desktop/Poisson_solver/Poisson_Solver/poisson/examples/example_cp')"
   ]
  },
  {
   "cell_type": "markdown",
   "metadata": {},
   "source": [
    "# Plotting\n",
    "TODO: Explain the parameters given to plot functions ? For now c.f doc"
   ]
  },
  {
   "cell_type": "code",
   "execution_count": 9,
   "metadata": {},
   "outputs": [],
   "source": [
    "#3D plot\n",
    "linear_prob.plot_3d(titles=('Voltage', 'Charge'), scale_factor=(0.05, 1))"
   ]
  },
  {
   "cell_type": "code",
   "execution_count": 10,
   "metadata": {},
   "outputs": [
    {
     "data": {
      "image/png": "[encoded data removed]",
      "text/plain": [
       "<Figure size 792x792 with 2 Axes>"
      ]
     },
     "metadata": {},
     "output_type": "display_data"
    },
    {
     "data": {
      "image/png": "[encoded data removed]",
      "text/plain": [
       "<Figure size 792x792 with 2 Axes>"
      ]
     },
     "metadata": {},
     "output_type": "display_data"
    }
   ],
   "source": [
    "#2D cut\n",
    "plot_volt, plot_charge = linear_prob.plot_cut_2d(direction=2, npoints=[200, 200])\n",
    "plot_volt(variable=2, colorbar_label='Voltage(V)')\n",
    "plot_charge(variable=2, colorbar_label='Charge')\n",
    "plt.show()"
   ]
  },
  {
   "cell_type": "code",
   "execution_count": 11,
   "metadata": {},
   "outputs": [
    {
     "name": "stdout",
     "output_type": "stream",
     "text": [
      "{'marker': 'x', 'label': 'Voltage simulation - center', 'linestyle': 'None', 'color': 'r'}\n",
      "{'marker': '.', 'label': 'Voltage simulation - bbox', 'linestyle': 'None', 'color': 'k'}\n",
      "{'marker': 'x', 'label': 'Charge simulation - center', 'linestyle': 'None', 'color': 'm'}\n",
      "{'marker': '.', 'label': 'Charge simulation - bbox', 'linestyle': 'None', 'color': 'b'}\n"
     ]
    },
    {
     "data": {
      "image/png": "[encoded data removed]",
      "text/plain": [
       "<Figure size 432x288 with 2 Axes>"
      ]
     },
     "metadata": {},
     "output_type": "display_data"
    }
   ],
   "source": [
    "# 1D cut\n",
    "# If bbox parameter not specified -> plot the value at the center of the volume cell.\n",
    "plot_voltage, plot_charge = linear_prob.plot_cut_1d(directions=[0, 2])\n",
    "\n",
    "# If bbox specified -> generates a list of points and find which volume\n",
    "# cell they belong to. Take the value at the center of that cell as their\n",
    "# voltage and charge value.\n",
    "plot_voltage_bb, plot_charge_bb = linear_prob.plot_cut_1d(\n",
    "        directions=[0, 2], bbox='default')\n",
    "\n",
    "fig2 = plt.figure()\n",
    "ax_voltage = fig2.add_subplot(111)\n",
    "\n",
    "t, data_volt = plot_voltage(\n",
    "        variables= [2, 2], ax = ax_voltage, marker='x',\n",
    "        label='Voltage simulation - center', linestyle='None', color='r',)\n",
    "\n",
    "t, data_volt = plot_voltage_bb(\n",
    "        variables= [2, 2], ax = ax_voltage, marker='.',\n",
    "        label='Voltage simulation - bbox', linestyle='None', color='k',)\n",
    "\n",
    "ax_voltage.set_xlabel('{0}(nm)'.format('y'))\n",
    "ax_voltage.set_ylabel('Voltage(V)')\n",
    "ax_voltage.legend(loc='upper center')\n",
    "\n",
    "ax_charge = ax_voltage.twinx()\n",
    "\n",
    "t, data_charge = plot_charge(\n",
    "        variables = [2, 2], ax = ax_charge, marker='x',\n",
    "        label='Charge simulation - center', linestyle='None',  color='m',)\n",
    "\n",
    "t, data_charge = plot_charge_bb(\n",
    "        variables = [2, 2], ax = ax_charge, marker='.',\n",
    "        label='Charge simulation - bbox', linestyle='None',  color='b',)\n",
    "\n",
    "ax_charge.set_xlabel('{0}(nm)'.format('y'))\n",
    "ax_charge.set_ylabel(r'Charge density $(\\#.nm^{{{-2}}})$')\n",
    "ax_charge.legend(loc='lower center')\n",
    "\n",
    "plt.show()"
   ]
  },
  {
   "cell_type": "markdown",
   "metadata": {},
   "source": [
    "We can also add a thrid electrode to make things more interesting"
   ]
  },
  {
   "cell_type": "code",
   "execution_count": 24,
   "metadata": {},
   "outputs": [
    {
     "name": "stdout",
     "output_type": "stream",
     "text": [
      "Finding closed voronoi cells\n",
      "Done selecting closed voronoi cells\n",
      "Calculating points distance\n",
      "Done\n",
      "Calculating ridges hypersurfaces\n",
      "Done\n",
      "Finding  hypervolume for closed voronoi cells\n",
      "Done finding hypervolume for closed voronoi cells\n",
      "{'Neuman-Dirichlet': [['voltage', '*']]}\n",
      "Done Neuman - Dirichlet refinement\n",
      "Done calculating surface\n",
      "Done calculating distance\n",
      "Done calculating capacitance matrix\n",
      "New instance created\n",
      "Solver : MUMPS\n"
     ]
    },
    {
     "data": {
      "image/png": "[encoded data removed]",
      "text/plain": [
       "<Figure size 792x792 with 2 Axes>"
      ]
     },
     "metadata": {},
     "output_type": "display_data"
    },
    {
     "data": {
      "image/png": "[encoded data removed]",
      "text/plain": [
       "<Figure size 792x792 with 2 Axes>"
      ]
     },
     "metadata": {},
     "output_type": "display_data"
    }
   ],
   "source": [
    "D = shapes.Rectangle(length=(5, 5, 2), corner=(0, 2.001, 5.001))\n",
    "\n",
    "con_geo = poisson.ContinuousGeometry(space = A + B + C + D, \n",
    "                                     voltage={'elect1':A, 'elect2':C, 'elec_sup': D},\n",
    "                                     dielectric=[(A+C+D, 1), (B, 12)])\n",
    "\n",
    "bbox_A = [0, 5, 0, 5, 0, 5]\n",
    "bbox_B = [0, 5, 2, 8, 0, 5]\n",
    "bbox_C = [0, 5, 5, 10, 0, 5]\n",
    "bbox_D = [0, 5, 2, 8, 5, 7]\n",
    "grid = poisson.GridBuilder(meshs = [(bbox_A, 0.25, A, 1),  # second argument the step and fourth argument is the label\n",
    "                                    (bbox_B, 0.25, B, 2),\n",
    "                                    (bbox_C, 0.25, C, 3),\n",
    "                                    (bbox_D, 0.25, D, 4)])\n",
    "\n",
    "con_geo.plot(plot_type='3D', points=grid(), scale_factor = 0.05)\n",
    "plt.show()\n",
    "\n",
    "discrete_prob = poisson.DiscretePoisson(con_geo, grid=grid, \n",
    "                                        selection = {'Neuman-Dirichlet':[['voltage', '*']]})\n",
    "\n",
    "linear_prob = poisson.LinearProblem(discrete_poisson=discrete_prob, voltage_val=[(A, 5), (C, -5), (D, -10)], \n",
    "                                   is_charge_density=True) # is_charge_density is by default true\n",
    "\n",
    "plot_volt, plot_charge = linear_prob.plot_cut_2d(direction=2, npoints=[200, 200])\n",
    "plot_volt(variable=2, colorbar_label='Voltage(V)')\n",
    "plot_charge(variable=2, colorbar_label='Charge')\n",
    "plt.show()"
   ]
  },
  {
   "cell_type": "code",
   "execution_count": 26,
   "metadata": {},
   "outputs": [
    {
     "data": {
      "image/png": "[encoded data removed]",
      "text/plain": [
       "<Figure size 792x792 with 2 Axes>"
      ]
     },
     "metadata": {},
     "output_type": "display_data"
    },
    {
     "data": {
      "image/png": "[encoded data removed]",
      "text/plain": [
       "<Figure size 792x792 with 2 Axes>"
      ]
     },
     "metadata": {},
     "output_type": "display_data"
    }
   ],
   "source": [
    "plot_volt, plot_charge = linear_prob.plot_cut_2d(direction=1, npoints=[200, 200])\n",
    "plot_volt(variable=3, colorbar_label='Voltage(V)')\n",
    "plot_charge(variable=3, colorbar_label='Charge')\n",
    "plt.show()"
   ]
  }
 ],
 "metadata": {
  "kernelspec": {
   "display_name": "Python 3",
   "language": "python",
   "name": "python3"
  },
  "language_info": {
   "codemirror_mode": {
    "name": "ipython",
    "version": 3
   },
   "file_extension": ".py",
   "mimetype": "text/x-python",
   "name": "python",
   "nbconvert_exporter": "python",
   "pygments_lexer": "ipython3",
   "version": "3.8.2"
  }
 },
 "nbformat": 4,
 "nbformat_minor": 2
}
