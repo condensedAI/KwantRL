{
 "cells": [
  {
   "cell_type": "markdown",
   "metadata": {},
   "source": [
    "# 2D Example of a electrode facing a charged rod"
   ]
  },
  {
   "cell_type": "markdown",
   "metadata": {},
   "source": [
    "# Geometry\n",
    "\n",
    "We will define a 2D region where the potential is fixed (rect_pot), one where the charge is fixed to zero (rect_out) \n",
    "and a third where there is a point charge (rect_int). "
   ]
  },
  {
   "cell_type": "code",
   "execution_count": null,
   "metadata": {},
   "outputs": [],
   "source": [
    "import poisson\n",
    "\n",
    "l = 2\n",
    "L = 2\n",
    "W = 40\n",
    "\n",
    "rect_int = poisson.continuous.shapes.Rectangle(length=(l, l), corner=(-l/2, -l/2))\n",
    "rect_out = poisson.continuous.shapes.Rectangle(length=(W, L + W/2), corner=(-W/2, -L))\n",
    "rect_pot = poisson.continuous.shapes.Rectangle(length=(W, 1.01), corner=(-W/2, -L - 1))\n",
    "\n",
    "con_geo = poisson.ContinuousGeometry(voltage = {'electrode':rect_pot}, \n",
    "                                     charge = {'insulator': rect_out - rect_int - rect_pot, 'point charge': rect_int})"
   ]
  },
  {
   "cell_type": "markdown",
   "metadata": {},
   "source": [
    "We will define a mesh that is very fine around the charge and coarser elsewhere"
   ]
  },
  {
   "cell_type": "code",
   "execution_count": null,
   "metadata": {},
   "outputs": [],
   "source": [
    "bbox =  [-W/2, W/2, -L - 5, W/2]\n",
    "grid = poisson.GridBuilder(meshs=[(bbox, 0.1, rect_out, 0),\n",
    "                                  (bbox, 0.01, rect_int, 1),\n",
    "                                  (bbox, 0.05, rect_pot, 2)])"
   ]
  },
  {
   "cell_type": "code",
   "execution_count": null,
   "metadata": {},
   "outputs": [],
   "source": [
    "# Plot them\n",
    "con_geo_plot = con_geo.plot(plot_type='2D', bbox=bbox) # This returns a function that when called creates a plot\n",
    "\n",
    "con_geo_plot(variable=0) # variable must be 0"
   ]
  },
  {
   "cell_type": "markdown",
   "metadata": {},
   "source": [
    "# Discrete Poisson "
   ]
  },
  {
   "cell_type": "code",
   "execution_count": null,
   "metadata": {},
   "outputs": [],
   "source": [
    "dis_poisson = poisson.DiscretePoisson(\n",
    "    con_geo, grid=grid, selection={'Voronoi':[['voltage', '*']]})\n"
   ]
  },
  {
   "cell_type": "markdown",
   "metadata": {},
   "source": [
    "# Linear Problem\n",
    "\n",
    "In this problem one must define a charge at point_charge. \n",
    "\n",
    "This can be done in two ways: \n",
    "\n",
    "- Impose the total number of charge carriers at the volume element: e.g. 2  (which corresponds to 2 electrons, i.e. a charge of 2 * 1.69e-19 C)\n",
    "- Impose a density. This part is trickier, as if the density is defined in 3D it must be transformed to a 2D density where the density along the dimension that was lost is considered invariant. In order to do so one must define the 3D density in $\\text{nm}^{-3}$ and then divide the density by the length of the system along the invariant dimension. FOr a more comprehensive explanation see the Report. \n",
    "\n",
    "In order to associate a voltage or charge value to a region one can do that in multiple ways: \n",
    "\n",
    "- Define a tuple containing :\n",
    "  - A Shape or function as first element and a constant value as second                                                             \n",
    "  - Shape or function in first element and a function as second element describing the variation of the value as a function of the coordinates. Thus the function must take as input a set of coordinates and return a float. \n",
    "  - A numpy array containing the index of the points where the voltage or charge is fixed as a the first element and a numpy array with their respective values as a second element. \n",
    "        \n",
    "Similarly to what was done earlier, a list of tuples must be given as voltage or charge. \n",
    "\n",
    "In the follwing example the voltage will be defined with (shape, float) and charge with (np.array, np.array). The charge will be given in numbers of charge carriers per volume element. An example where the density is given is example_dopant. "
   ]
  },
  {
   "cell_type": "code",
   "execution_count": null,
   "metadata": {},
   "outputs": [],
   "source": [
    "from scipy.spatial import cKDTree\n",
    "import numpy as np\n",
    "# Select the index of the coordianate we are looking for\n",
    "tree =  cKDTree(dis_poisson.mesh.points)\n",
    "part_pos_y = 0.0\n",
    "part_pos_x = 0.0\n",
    "t, index = tree.query([part_pos_x,  part_pos_y])\n",
    "\n",
    "# Create and solve the linear problem\n",
    "\n",
    "linear_problem = poisson.LinearProblem( \n",
    "            dis_poisson, is_charge_density=False,\n",
    "            voltage_val = [(rect_pot, 0.0)],\n",
    "            charge_val=[(np.array([index]), np.array([1]))]) # we put one electron per volume element\n"
   ]
  },
  {
   "cell_type": "markdown",
   "metadata": {},
   "source": [
    "#  Visualization"
   ]
  },
  {
   "cell_type": "markdown",
   "metadata": {},
   "source": [
    "Before plotting the results one can visualize the charge density in every subregion, \n",
    "this can be done by using poisson.tools.regions_summary_charge "
   ]
  },
  {
   "cell_type": "code",
   "execution_count": null,
   "metadata": {},
   "outputs": [],
   "source": [
    "hyper_volume, charges, charge_tot = poisson.tools.regions_summary_charge(lin_prob_inst=linear_problem, verbose=True)"
   ]
  },
  {
   "cell_type": "code",
   "execution_count": null,
   "metadata": {},
   "outputs": [],
   "source": [
    "from scipy import constants\n",
    "\n",
    "# Analytical calculation :\n",
    "A = -constants.elementary_charge / (2 * np.pi * constants.epsilon_0 * 1e-9)\n",
    "\n",
    "y = np.linspace(-W, W, 10000)\n",
    "r_0 = -2*L\n",
    "V = -A * (np.log(np.abs(y)) - np.log((np.abs(y - r_0))))"
   ]
  },
  {
   "cell_type": "code",
   "execution_count": null,
   "metadata": {},
   "outputs": [],
   "source": [
    "import matplotlib.pyplot as plt\n",
    "\n",
    "# Plotting\n",
    "plot_voltage_2d, plot_charge_2d = linear_problem.plot_cut_2d(direction=2)\n",
    "plot_voltage_2d(0, colorbar_label=r'Voltage (V)')\n",
    "plot_charge_2d(0, colorbar_label=r'Charge density($\\#.nm^{{{-2}}}$)')\n",
    "plt.show()\n",
    "\n",
    "# bbox=[(-W/2, W/2, 3000)]\n",
    "plot_voltage, plot_charge = linear_problem.plot_cut_1d(\n",
    "        directions=(0,), bbox='default', npoints=2000)\n",
    "\n",
    "fig2 = plt.figure()\n",
    "ax_voltage = fig2.add_subplot(111)\n",
    "\n",
    "t, data_volt = plot_voltage(\n",
    "        (0, ), ax = ax_voltage, marker='.', color='k',\n",
    "        label='Voltage simulation', linestyle='None')\n",
    "\n",
    "ax_voltage.set_xlabel('{0}(nm)'.format('y'))\n",
    "ax_voltage.set_ylabel('Voltage(V)')\n",
    "ax_voltage.plot(y, V, 'g-', label='Voltage analytical')\n",
    "ax_voltage.legend(loc='upper center')\n",
    "\n",
    "# ax_charge = ax_voltage.twinx()\n",
    "fig2 = plt.figure()\n",
    "ax_charge = fig2.add_subplot(111)\n",
    "\n",
    "tt, data_charge = plot_charge(\n",
    "        (0, ), ax = ax_charge, marker='.', color='b',\n",
    "        label='Charge simulation', linestyle='None')\n",
    "\n",
    "ax_charge.set_xlabel('{0}(nm)'.format('y'))\n",
    "ax_charge.set_ylabel(r'Charge density $(\\#.nm^{{{-2}}})$')\n",
    "ax_charge.legend(loc='lower center')\n",
    "\n",
    "plt.show()"
   ]
  }
 ],
 "metadata": {
  "kernelspec": {
   "display_name": "Python 3",
   "language": "python",
   "name": "python3"
  },
  "language_info": {
   "codemirror_mode": {
    "name": "ipython",
    "version": 3
   },
   "file_extension": ".py",
   "mimetype": "text/x-python",
   "name": "python",
   "nbconvert_exporter": "python",
   "pygments_lexer": "ipython3",
   "version": "3.6.5"
  }
 },
 "nbformat": 4,
 "nbformat_minor": 2
}
