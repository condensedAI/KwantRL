{
 "cells": [
  {
   "cell_type": "markdown",
   "metadata": {},
   "source": [
    "# 3D example sphere"
   ]
  },
  {
   "cell_type": "markdown",
   "metadata": {},
   "source": [
    "The entire code with 2D and 3D plot"
   ]
  },
  {
   "cell_type": "markdown",
   "metadata": {},
   "source": [
    "# Geometry"
   ]
  },
  {
   "cell_type": "markdown",
   "metadata": {},
   "source": [
    "Similarly to how it was done in example_capa_parallel, we start by defining the geometry of the system, i.e.\n",
    "by creating a ContinuousGeometry.\n",
    "\n",
    "We notice here that space is not an obligatory parameter, if one gives as parameter both voltage and all charge regions space is not needed. "
   ]
  },
  {
   "cell_type": "code",
   "execution_count": null,
   "metadata": {},
   "outputs": [],
   "source": [
    "from poisson.continuous import shapes\n",
    "from poisson import ContinuousGeometry\n",
    "\n",
    "epislon = 1e-14 # Is this still nescessary -> Ask pacome to se if he fixed this\n",
    "r1 = 3.0 + epislon\n",
    "r2 = 8.0 + epislon\n",
    "r3 = 10.0 + epislon\n",
    "\n",
    "center = [0.0, 0.0, 0.0]\n",
    "cercle1 = shapes.Ellipsoid((r1, r1, r1), center)\n",
    "cercle2 = (shapes.Ellipsoid((r2, r2, r2), center)\n",
    "           - shapes.Ellipsoid((r1, r1, r1), center))\n",
    "cercle3 = (shapes.Ellipsoid((r3, r3, r3), center)\n",
    "           - shapes.Ellipsoid((r2, r2, r2), center))\n",
    "\n",
    "# Construct the poisson problem\n",
    "geometry = ContinuousGeometry(voltage={'elect1':cercle1, 'elect2':cercle3}, \n",
    "                              charge={'insulator':cercle2})\n"
   ]
  },
  {
   "cell_type": "markdown",
   "metadata": {},
   "source": [
    "We then create a GridBuilder instance to generate the points in the mesh. \n",
    "Here we are going to make a spherical mesh instead of a rectangular mesh. \n",
    "\n",
    "In order to do the latter GridBuilder.add_mesh_spherical must be used. If a circular mesh is to be used (in a 2D case) use GridBuilder.add_mesh_circular()\n",
    "\n",
    "Moreover, the step will not be the same in all directions, as we can define the step in each direction separetly. \n",
    "\n",
    "Additionally, since we are particularly concerned with what happens at the interface betwen two regions, e.g. the electrode and the insulator, we will set the step at the interface to be considerably smaller than an the interior of each zone. "
   ]
  },
  {
   "cell_type": "code",
   "execution_count": null,
   "metadata": {},
   "outputs": [],
   "source": [
    "from poisson import GridBuilder\n",
    "import numpy as np\n",
    "\n",
    "# Create the shapes instances around the two interfaces elc1 - insulator and elect2 - insulator\n",
    "r1_2a = 2.90 + epislon\n",
    "r1_2b = 3.1 + epislon\n",
    "r2_3a = 7.90 + epislon\n",
    "r2_3b = 8.1 + epislon\n",
    "cercle_1_2 = (shapes.Ellipsoid((r1_2b, r1_2b, r1_2b), center)\n",
    "              - shapes.Ellipsoid((r1_2a, r1_2a, r1_2a), center))\n",
    "cercle_2_3 = (shapes.Ellipsoid((r2_3b, r2_3b, r2_3b), center)\n",
    "              - shapes.Ellipsoid((r2_3a, r2_3a, r2_3a),center))\n",
    "\n",
    "# Defined the step along each direction\n",
    "sphericalbox = [-10, 10, 0, 2 * np.pi, 0, np.pi] # 1 -> x, 2 -> y, 3 -> z\n",
    "step = [0.1, np.pi / 10, np.pi / 10]\n",
    "step_2 = [0.01, np.pi/ 10, np.pi/ 10]\n",
    "\n",
    "# Build the grid \n",
    "grid = GridBuilder(build_mesh=False)\n",
    "grid.add_mesh_spherical(sphericalbox, step, cercle1, 0)\n",
    "grid.add_mesh_spherical(sphericalbox, step, cercle2, 1)\n",
    "grid.add_mesh_spherical(sphericalbox, step, cercle3, 2)\n",
    "grid.add_mesh_spherical(sphericalbox, step_2, cercle_1_2, 3)\n",
    "grid.add_mesh_spherical(sphericalbox, step_2, cercle_2_3, 4)"
   ]
  },
  {
   "cell_type": "markdown",
   "metadata": {},
   "source": [
    "Visualize the continuous geometry\n",
    "\n",
    "Here one can use the function in each class or use the plot module poisson.plot"
   ]
  },
  {
   "cell_type": "code",
   "execution_count": null,
   "metadata": {},
   "outputs": [],
   "source": [
    "from poisson import plot as p_plt\n",
    "import matplotlib.pyplot as plt\n",
    "\n",
    "# Show the grid\n",
    "p_plt.points_3D_mavi(cls_inst=grid, scale_factor = 0.05)\n",
    "plt.show()\n",
    "\n",
    "# Show the continuous problem\n",
    "\n",
    "# 3D\n",
    "geometry.plot(points=grid.points, plot_type='3D', scale_factor = 0.05)\n",
    "plt.show()\n",
    "# or\n",
    "p_plt.points_3D_mavi(cls_inst=geometry, points=grid.points,\n",
    "                     scale_factor = 0.05)\n",
    "\n",
    "# 2D\n",
    "bbox = [-10, 10, -10, 10]\n",
    "plot_geometry = geometry.plot(direction=2, bbox=bbox, plot_type='2D')\n",
    "plot_geometry(variable=0)\n",
    "#or\n",
    "plot_geometry = p_plt.plot_continuous_geometry(geometry_inst=geometry,\n",
    "                                               bbox=bbox)\n",
    "plot_geometry(variable=0)\n",
    "plt.show()"
   ]
  },
  {
   "cell_type": "markdown",
   "metadata": {},
   "source": [
    "# Discrete Problem and solving it"
   ]
  },
  {
   "cell_type": "code",
   "execution_count": null,
   "metadata": {},
   "outputs": [],
   "source": [
    "from poisson import DiscretePoisson, LinearProblem\n",
    "\n",
    "# As it was exaplained in example_capa_parallel\n",
    "\n",
    "sys_instance = DiscretePoisson(\n",
    "        geometry, grid=grid,\n",
    "        selection={'Neuman-Dirichlet':[['voltage', '*']]})\n",
    "\n",
    "linear_prob_inst = LinearProblem(sys_instance, is_charge_density=True,\n",
    "                                 voltage_val=[(cercle3, 4.0),\n",
    "                                              (cercle1, 0.0)])"
   ]
  },
  {
   "cell_type": "markdown",
   "metadata": {},
   "source": [
    "# Plotting results"
   ]
  },
  {
   "cell_type": "code",
   "execution_count": null,
   "metadata": {},
   "outputs": [],
   "source": [
    "import matplotlib.pyplot as plt\n",
    "\n",
    "#### Plotting\n",
    "# Plot 3D \n",
    "linear_prob_inst.plot_3d(plot_='both', titles=('voltage', 'charge'), scale_factor=(0.1, 0.01))\n",
    "\n",
    "# Plot 2D cut\n",
    "plot_volt, plot_charge = linear_prob_inst.plot_cut_2d(direction=2,\n",
    "                                                      npoints=(1000,1000))\n",
    "plot_volt(variable=0, colorbar_label='Voltage (V)')\n",
    "plot_charge(variable=0, colorbar_label='Charge')\n",
    "plt.show()\n",
    "\n",
    "# Plot 1D cut\n",
    "plot_voltage, plot_charge = linear_prob_inst.plot_cut_1d(\n",
    "        directions=(1, 2), bbox='default', npoints=2000)\n",
    "\n",
    "fig2 = plt.figure()\n",
    "ax_voltage = fig2.add_subplot(111)\n",
    "\n",
    "t, data_volt = plot_voltage(\n",
    "        (0, 0), ax = ax_voltage, marker='.', color='k',\n",
    "        label='Voltage simulation', linestyle='None')\n",
    "\n",
    "ax_voltage.set_xlabel('{0}(nm)'.format('y'))\n",
    "ax_voltage.set_ylabel('Voltage(V)')\n",
    "ax_voltage.legend(loc='upper center')\n",
    "\n",
    "ax_charge = ax_voltage.twinx()\n",
    "\n",
    "tt, data_charge = plot_charge(\n",
    "        (0, 0), ax = ax_charge, marker='.', color='b',\n",
    "        label='Charge simulation', linestyle='None')\n",
    "\n",
    "ax_charge.set_xlabel('{0}(nm)'.format('y'))\n",
    "ax_charge.set_ylabel(r'Charge density $(\\#.nm^{{{-2}}})$')\n",
    "ax_charge.legend(loc='lower center')\n",
    "\n",
    "plt.show()"
   ]
  }
 ],
 "metadata": {
  "kernelspec": {
   "display_name": "Python 3",
   "language": "python",
   "name": "python3"
  },
  "language_info": {
   "codemirror_mode": {
    "name": "ipython",
    "version": 3
   },
   "file_extension": ".py",
   "mimetype": "text/x-python",
   "name": "python",
   "nbconvert_exporter": "python",
   "pygments_lexer": "ipython3",
   "version": "3.6.5"
  }
 },
 "nbformat": 4,
 "nbformat_minor": 2
}
