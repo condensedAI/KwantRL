{
 "cells": [
  {
   "cell_type": "markdown",
   "metadata": {},
   "source": [
    "# QPC\n",
    "\n",
    "Defined a quantum point contact. \n",
    "\n",
    "We will here define two gates and one zone underaneath it with a charge density (2DEG GAS). \n",
    "We will then update the system for a number of charge densities and voltages using\n",
    "the LinearProblem.update() method. "
   ]
  },
  {
   "cell_type": "markdown",
   "metadata": {},
   "source": [
    "## Geometry\n",
    "\n",
    "### Shapes class\n",
    "\n",
    "When defining the geometry in the previous examples we used poisson.continuous.shapes.Rectangle and Ellipsoid. They are both subclasses of General wich is itself a subclass of Shape (an ABC class). In oder to create a subclass of General one must only create a geometry(self, kwargs) module within the class that takes as parameter a numpy array and returns a numpy array of booleans. More info on that can be found on poisson.continuous.shapes. and an example of a subclass of Geometry is poisson.continuous.shapes.Rectangle. \n",
    "\n",
    "Here we are not going to use a subclass of General in order to construct our geometry. In fact we are going to use a subclass of InHull (an ABC class) which is itself a subclass of Shape. InHull takes a list of points ( vertices of your stucture, which must be convex) and performs a Deulanay tessalation, which allows us to define a function detecting if a set of coordinates is within the tessalation or not. Just as for the General class, one can create a subclass of InHull. In order to do so one only needs to creat a module within the afformanted class called generate_points(self) that returns an array of coordinates corresponding to the vertices of convex geometrical object. For an example of the latter one can check the class poisson.continuous.shapes.RegularPolygon. \n",
    "\n",
    "The advantage of creating using an InHull subclass, other than the logical operations available for all Shape subclasses, is the possibility to translate and rotate your geometrical object. This will be shown bellow. \n",
    "\n",
    "The class used here is Delaunay. This subclass of InHull takes as parameters the vertex of the convex geometrical object as parameter or an instance of scipy.spatial.qhull.Deulaunay. "
   ]
  },
  {
   "cell_type": "code",
   "execution_count": null,
   "metadata": {},
   "outputs": [],
   "source": [
    "import copy\n",
    "import numpy as np\n",
    "from poisson.continuous import shapes\n",
    "import poisson\n",
    "\n",
    "def make_QPC(alphab = 1, alphag = 0.25, alphagas = 0.25):\n",
    "    '''\n",
    "        Parameters:\n",
    "        -----------\n",
    "            alphab: step in the regions ouside of the 2D gas or electrodes. \n",
    "            alphagas: step on the zone defining the 2D gas\n",
    "            alphag: step on the zone defining the electrodes\n",
    "    '''\n",
    "    ### gates\n",
    "    gatez = 5  # lower position of the gate in z (on top of gas)\n",
    "    gateh = 1  # heigth of the gates\n",
    "    gateextw = 15  # width of the gate at side opposed to gas\n",
    "    gateintw = 5  # width of the gate at side facing the gas\n",
    "    gatedepth = 6   # x extension of the gate\n",
    "    gatexpos = 3   # x position of the interior of the gate\n",
    "\n",
    "    ### gas\n",
    "    gasz = 0  # gas position in z\n",
    "    gasx = 10   # gas extension along x\n",
    "    gasy = 30  # gas extension along y\n",
    "\n",
    "    ### refinement\n",
    "    alphab = 1\n",
    "    alphag = 0.25\n",
    "    alphagas = 0.25\n",
    "\n",
    "    ### external box\n",
    "    extbox = np.array(\n",
    "            [-(2 * gatexpos + gatedepth), (2 * gatexpos + gatedepth),\n",
    "             -.75 * gasy, .75 * gasy, -10 * alphag, 2 * (gateh + gatez)])\n",
    "\n",
    "    ### gates\n",
    "    gatel = shapes.Delaunay(\n",
    "            [[-(gatexpos + gatedepth) , -gateextw/2, gatez],\n",
    "              [-(gatexpos + gatedepth) , gateextw/2, gatez],\n",
    "              [-(gatexpos) , -gateintw/2, gatez],\n",
    "              [-(gatexpos) , gateintw/2, gatez],\n",
    "              [-(gatexpos + gatedepth) , -gateextw/2, gatez + gateh],\n",
    "              [-(gatexpos + gatedepth) , gateextw/2, gatez + gateh],\n",
    "              [-(gatexpos) , -gateintw/2, gatez + gateh],\n",
    "              [-(gatexpos) , gateintw/2, gatez + gateh]])\n",
    "    gatel_mesh = [extbox, alphag, gatel, 2]\n",
    "\n",
    "    gater = copy.deepcopy(gatel)\n",
    "    gater.rotate([0, 0, np.pi], center=[0, 0, 0])\n",
    "    gater_mesh = [extbox, alphag, gater, 3]\n",
    "\n",
    "    ### gas\n",
    "    gas = shapes.Delaunay(\n",
    "            [[-gasx/2, -gasy/2, gasz + 4*alphag],\n",
    "             [gasx/2, -gasy/2, gasz + 4*alphag],\n",
    "             [-gasx/2, gasy/2, gasz + 4*alphag],\n",
    "             [gasx/2, gasy/2, gasz + 4*alphag],\n",
    "             [-gasx/2, -gasy/2, gasz - 4*alphag],\n",
    "             [gasx/2, -gasy/2, gasz - 4*alphag],\n",
    "             [-gasx/2, gasy/2, gasz - 4*alphag],\n",
    "             [gasx/2, gasy/2, gasz - 4*alphag]])\n",
    "    gas_mesh = [extbox, alphagas, gas, 4]\n",
    "\n",
    "    ### exterior box\n",
    "    extbbox = shapes.Delaunay(\n",
    "            [extbox[[0, 2, 4]], extbox[[0, 2, 5]],\n",
    "             extbox[[0, 3, 4]], extbox[[0, 3, 5]],\n",
    "             extbox[[1, 2, 4]], extbox[[1, 2, 5]],\n",
    "             extbox[[1, 3, 4]], extbox[[1, 3, 5]]])\n",
    "    ext_mesh = [extbox, alphab, extbbox, 1]\n",
    "\n",
    "    # Build the grid object. \n",
    "    grid = poisson.GridBuilder(meshs=[ext_mesh, gatel_mesh, gater_mesh, gas_mesh])\n",
    "    \n",
    "    ### mesh\n",
    "    return (grid, gatel, gater, gas, extbbox)\n"
   ]
  },
  {
   "cell_type": "code",
   "execution_count": null,
   "metadata": {},
   "outputs": [],
   "source": [
    "# Visualize the grid. \n",
    "alphab = 1\n",
    "alphag = 0.25\n",
    "alphagas = 0.25\n",
    "grid, t, t, t, t = make_QPC(alphab, alphag, alphagas)\n",
    "poisson.plot.points_3D_mavi(grid, scale_factor=0.05)"
   ]
  },
  {
   "cell_type": "markdown",
   "metadata": {},
   "source": [
    "### Define the Continuous Geometry"
   ]
  },
  {
   "cell_type": "code",
   "execution_count": null,
   "metadata": {},
   "outputs": [],
   "source": [
    "grid, gatel, gater, gas, extbbox = make_QPC()\n",
    "\n",
    "dielectric = (extbbox - (gatel + gater + gas))\n",
    "\n",
    "# we can set the default dielectric to 12 * 8.85e-12 and have a constant dielectric constant\n",
    "# everywhere by adding the parameter default_relative_permittivity = 12\n",
    "# We can also set the dielectric constant at individual regions using the dielecetric parameter, \n",
    "# e.g. dielectric = [(gas, 10), (dielectric, 16), (gater + gatel, 3)]\n",
    "geo_inst = poisson.ContinuousGeometry(\n",
    "    voltage = {'gater':gater, 'gatel':gatel}, \n",
    "    charge = {'2DEG': gas, 'dielectric': dielectric},\n",
    "    default_relative_permittivity = 12) "
   ]
  },
  {
   "cell_type": "markdown",
   "metadata": {},
   "source": [
    "## Discrete Poisson"
   ]
  },
  {
   "cell_type": "code",
   "execution_count": null,
   "metadata": {},
   "outputs": [],
   "source": [
    "dis_poisson = poisson.DiscretePoisson(\n",
    "    geo_inst, grid=grid,\n",
    "    selection={'Neuman-Dirichlet':[['voltage', '*']]})"
   ]
  },
  {
   "cell_type": "markdown",
   "metadata": {},
   "source": [
    "## Linear Problem\n",
    "\n",
    "Here we need to check how we will transform a 2D density ($6. 10^{10} \\text{cm}^{-2}$) into a value that can be sent to the poisson solver. \n",
    "\n",
    "The first thing is to transform the units from cm to nm -> $6. 10^{-4} \\text{nm}^{-2}$\n",
    "\n",
    "The thickness of our 2D gas is 4 times the step of the mesh on the gas. We can consider the density invariant along\n",
    "that direction and transform the 2D density into a 3D density by dividing the 2D density by the thickness of the 2D gas, i.e. $\\frac{6}{4 * \\text{alphagas}}. 10^{-4} \\text{nm}^{-3}$"
   ]
  },
  {
   "cell_type": "code",
   "execution_count": null,
   "metadata": {},
   "outputs": [],
   "source": [
    "linear_prob = poisson.LinearProblem(dis_poisson,\n",
    "                                    voltage_val=[(gatel, 5), (gater, 5)],\n",
    "                                    charge_val=[(gas,  6e-4 / (4 * alphagas))],\n",
    "                                    is_charge_density=True)"
   ]
  },
  {
   "cell_type": "code",
   "execution_count": null,
   "metadata": {},
   "outputs": [],
   "source": [
    "from matplotlib import pyplot as plt\n",
    "\n",
    "def plot(linear_problem_inst = None):\n",
    "\n",
    "    linear_problem_inst.plot_3d('both', ('Voltage (V)', 'Charge'),\n",
    "                        scale_factor=(0.05, 10))\n",
    "    \n",
    "    plot_voltage, plot_charge = linear_problem_inst.plot_cut_1d(\n",
    "            directions=(1, 2), bbox='default', npoints=2000)\n",
    "\n",
    "    fig2 = plt.figure()\n",
    "    ax_voltage = fig2.add_subplot(111)\n",
    "\n",
    "    t, data_volt = plot_voltage(\n",
    "            (0, 0), ax = ax_voltage, marker='.', color='k',\n",
    "            label='Voltage simulation', linestyle='None')\n",
    "\n",
    "    ax_voltage.set_xlabel('{0}(nm)'.format('y'))\n",
    "    ax_voltage.set_ylabel('Voltage(V)')\n",
    "    ax_voltage.legend(loc='upper center')\n",
    "\n",
    "    ax_charge = ax_voltage.twinx()\n",
    "\n",
    "    tt, data_charge = plot_charge(\n",
    "            (0, 0), ax = ax_charge, marker='.', color='b',\n",
    "            label='Charge simulation', linestyle='None')\n",
    "\n",
    "    ax_charge.set_xlabel('{0}(nm)'.format('y'))\n",
    "    ax_charge.set_ylabel(r'Charge density $(\\#.nm^{{{-2}}})$')\n",
    "    ax_charge.legend(loc='lower center')\n",
    "\n",
    "    plt.show()\n",
    "\n",
    "    plot_voltage_2d, plot_charge_2d = linear_problem_inst.plot_cut_2d(direction=2)\n",
    "\n",
    "    plot_voltage_2d(0, colorbar_label=r'Voltage (V)')\n",
    "    plot_charge_2d(0, colorbar_label=r'Charge density($\\#.nm^{{{-2}}}$)')\n",
    "\n",
    "    plot_voltage_2d(5, colorbar_label=r'Voltage (V)')\n",
    "    plot_charge_2d(5, colorbar_label=r'Charge density($\\#.nm^{{{-2}}}$)')\n",
    "\n",
    "    plt.show()  \n"
   ]
  },
  {
   "cell_type": "code",
   "execution_count": null,
   "metadata": {},
   "outputs": [],
   "source": [
    "plot(linear_prob)"
   ]
  },
  {
   "cell_type": "markdown",
   "metadata": {},
   "source": [
    "## Updating the voltage or charge density \n",
    "\n",
    "It is possible now to update the voltage and charge values without having to make a new capacitance matrix nor\n",
    "to refactorize again the system of equations defined in LinearProblem. \n",
    "\n",
    "This is achieved with the LinearProblem.update and LinearProblem.solve modules. \n",
    "\n",
    "LinearProblem.update take as parameters voltage_val, charge_val and mixed_val ( explained in more detail in the next tutorial). They have the same format as the ones given to LinearProblem. \n",
    "\n",
    "LinearProblem.solve take as parameters the solver_type (default is MUMPS) which selects wich solver\n",
    "will be used, new_instance (default False) which determines if a new instance of the Solver class will be \n",
    "created. Any other parameter is directly passed to the solver. "
   ]
  },
  {
   "cell_type": "code",
   "execution_count": null,
   "metadata": {},
   "outputs": [],
   "source": [
    "linear_prob.update(voltage_val=[(gatel, -5), (gater, -5)])\n",
    "linear_prob.solve(solver_type='mumps', new_instance=False, factorize=False)\n",
    "\n",
    "plot(linear_prob)"
   ]
  },
  {
   "cell_type": "code",
   "execution_count": null,
   "metadata": {},
   "outputs": [],
   "source": [
    "linear_prob.update(charge_val=[(gas,  -6e-4 / (4 * alphagas))])\n",
    "linear_prob.solve(solver_type='mumps', new_instance=False, factorize=False)\n",
    "\n",
    "plot(linear_prob)"
   ]
  }
 ],
 "metadata": {
  "kernelspec": {
   "display_name": "Python 3",
   "language": "python",
   "name": "python3"
  },
  "language_info": {
   "codemirror_mode": {
    "name": "ipython",
    "version": 3
   },
   "file_extension": ".py",
   "mimetype": "text/x-python",
   "name": "python",
   "nbconvert_exporter": "python",
   "pygments_lexer": "ipython3",
   "version": "3.6.5"
  }
 },
 "nbformat": 4,
 "nbformat_minor": 2
}
